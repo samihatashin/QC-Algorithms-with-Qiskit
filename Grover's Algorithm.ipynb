{
 "cells": [
  {
   "cell_type": "markdown",
   "id": "e5ec1a70",
   "metadata": {},
   "source": [
    "<div style=\"text-align: center; margin: 50px\">\n",
    "\n",
    "<h1 style=\"text-align: center;\">Grover's Algorithm</h1>\n",
    "\n",
    "</div>"
   ]
  },
  {
   "cell_type": "markdown",
   "id": "5fc5ad3e",
   "metadata": {},
   "source": [
    "### Overview:\n",
    "[Importing Necessary Libraries and Provider](#part1)<br><br>\n",
    "[Steps involved](#sdc)<br><br>\n",
    "     a.[Initialization](#sdc1)<br>\n",
    "     b.[Oracle preparation](#sdc2)<br>\n",
    "     c.[Grovers Diffusion operator](#sdc3)<br>\n",
    "     d.[Executing on a simulator](#sdc4)<br> \n",
    "     e.[Executing on a real quantum device](#sdc5)<br>"
   ]
  },
  {
   "cell_type": "markdown",
   "id": "2db89e6d",
   "metadata": {},
   "source": [
    "<a id = 'part1'></a>\n",
    "### Importing Necessary Libraries and Provider:"
   ]
  },
  {
   "cell_type": "code",
   "execution_count": 1,
   "id": "25680b9b",
   "metadata": {},
   "outputs": [],
   "source": [
    "import numpy as np\n",
    "from qiskit import QuantumCircuit, transpile, Aer, IBMQ, execute, assemble\n",
    "from qiskit.tools.jupyter import *\n",
    "from qiskit.visualization import *\n",
    "from ibm_quantum_widgets import *\n",
    "from qiskit.providers.ibmq import least_busy\n",
    "provider = IBMQ.load_account()"
   ]
  },
  {
   "cell_type": "markdown",
   "id": "3a309d1a",
   "metadata": {},
   "source": [
    "<a id = 'sdc_1'></a>\n",
    "### Steps Involved"
   ]
  },
  {
   "cell_type": "markdown",
   "id": "aff9bb0a",
   "metadata": {},
   "source": [
    "<a id = 'sdc1'></a>\n",
    "### Initialization"
   ]
  },
  {
   "cell_type": "code",
   "execution_count": 2,
   "id": "5b7f6719",
   "metadata": {},
   "outputs": [
    {
     "data": {
      "image/png": "[encoded data removed]",
      "text/plain": [
       "<Figure size 206.852x144.48 with 1 Axes>"
      ]
     },
     "execution_count": 2,
     "metadata": {},
     "output_type": "execute_result"
    }
   ],
   "source": [
    "## Initialising with equal superposition:\n",
    "def initialize(qc):\n",
    "    qc.h(0)         \n",
    "    qc.h(1)         \n",
    "    qc.barrier()\n",
    "grover_circuit = QuantumCircuit(2)\n",
    "initialize(grover_circuit)\n",
    "grover_circuit.draw('mpl')"
   ]
  },
  {
   "cell_type": "markdown",
   "id": "47d5d373",
   "metadata": {},
   "source": [
    "<a id = 'sdc2'></a>\n",
    "## Oracle preparation"
   ]
  },
  {
   "cell_type": "code",
   "execution_count": 3,
   "id": "61e25fd5",
   "metadata": {},
   "outputs": [
    {
     "data": {
      "image/png": "[encoded data removed]",
      "text/plain": [
       "<Figure size 327.252x144.48 with 1 Axes>"
      ]
     },
     "execution_count": 3,
     "metadata": {},
     "output_type": "execute_result"
    }
   ],
   "source": [
    "## Oracle preparation for |11>:\n",
    "def oracle_for_11(qc):\n",
    "    qc.cz(0,1)\n",
    "    qc.barrier()\n",
    "oracle_for_11(grover_circuit)\n",
    "grover_circuit.draw('mpl')"
   ]
  },
  {
   "cell_type": "markdown",
   "id": "255c8109",
   "metadata": {},
   "source": [
    "<a id = 'sdc3'></a>\n",
    "### Grover's Diffusion operator"
   ]
  },
  {
   "cell_type": "code",
   "execution_count": 4,
   "id": "9f2fbea7",
   "metadata": {},
   "outputs": [
    {
     "data": {
      "image/png": "[encoded data removed]",
      "text/plain": [
       "<Figure size 808.852x144.48 with 1 Axes>"
      ]
     },
     "execution_count": 4,
     "metadata": {},
     "output_type": "execute_result"
    }
   ],
   "source": [
    "## Creating Grover's Diffusion operator:\n",
    "def grov_diff(qc):\n",
    "    qc.h(0)\n",
    "    qc.h(1)\n",
    "    qc.x(0)\n",
    "    qc.x(1)\n",
    "    qc.h(1)\n",
    "    qc.cx(0,1)\n",
    "    qc.x(0)\n",
    "    qc.h(1)\n",
    "    qc.h(0)\n",
    "    qc.x(1)\n",
    "    qc.h(1)\n",
    "    qc.barrier()\n",
    "grov_diff(grover_circuit)        ## to see what grov_diff looks like\n",
    "grover_circuit.draw('mpl')"
   ]
  },
  {
   "cell_type": "code",
   "execution_count": 5,
   "id": "149082ed",
   "metadata": {},
   "outputs": [
    {
     "data": {
      "image/png": "[encoded data removed]",
      "text/plain": [
       "<Figure size 1019.88x204.68 with 1 Axes>"
      ]
     },
     "execution_count": 5,
     "metadata": {},
     "output_type": "execute_result"
    }
   ],
   "source": [
    "## Measuring the circuit:\n",
    "grover_circuit.measure_all()\n",
    "grover_circuit.draw('mpl')"
   ]
  },
  {
   "cell_type": "markdown",
   "id": "a7b5c0af",
   "metadata": {},
   "source": [
    "<a id = 'sdc4'></a>\n",
    "### Executing on a simulator"
   ]
  },
  {
   "cell_type": "code",
   "execution_count": 6,
   "id": "2ebaabf1",
   "metadata": {},
   "outputs": [
    {
     "data": {
      "image/png": "[encoded data removed]",
      "text/plain": [
       "<Figure size 504x360 with 1 Axes>"
      ]
     },
     "execution_count": 6,
     "metadata": {},
     "output_type": "execute_result"
    }
   ],
   "source": [
    "backend = Aer.get_backend('qasm_simulator')\n",
    "job = execute(grover_circuit, backend, shots = 1024)\n",
    "result = job.result()\n",
    "counts = result.get_counts()\n",
    "plot_histogram(counts)"
   ]
  },
  {
   "cell_type": "markdown",
   "id": "bcc6329a",
   "metadata": {},
   "source": [
    "<a id = 'sdc5'></a>\n",
    "## Executing on a real quantum device"
   ]
  },
  {
   "cell_type": "code",
   "execution_count": 7,
   "id": "bc927a51",
   "metadata": {},
   "outputs": [
    {
     "name": "stdout",
     "output_type": "stream",
     "text": [
      "least busy backend:  ibmqx2\n"
     ]
    }
   ],
   "source": [
    "## Executing on a real quantum device:\n",
    "provider = IBMQ.get_provider(hub='ibm-q')\n",
    "backend = least_busy(provider.backends(filters=lambda x: x.configuration().n_qubits >= 2 \n",
    "                                       and not x.configuration().simulator \n",
    "                                       and x.status().operational==True))\n",
    "print(\"least busy backend: \", backend)"
   ]
  },
  {
   "cell_type": "code",
   "execution_count": 8,
   "id": "4263a6fd",
   "metadata": {},
   "outputs": [
    {
     "name": "stderr",
     "output_type": "stream",
     "text": [
      "<ipython-input-8-cb2932bf4604>:5: DeprecationWarning: Passing a Qobj to Backend.run is deprecated and will be removed in a future release. Please pass in circuits or pulse schedules instead.\n",
      "  job = backend.run(qobj)\n"
     ]
    },
    {
     "name": "stdout",
     "output_type": "stream",
     "text": [
      "Job Status: job has successfully run\n"
     ]
    }
   ],
   "source": [
    "## Monitoring the job:\n",
    "from qiskit.tools.monitor import job_monitor\n",
    "transpiled_grover_circuit = transpile(grover_circuit, backend, optimization_level=3)\n",
    "qobj = assemble(transpiled_grover_circuit)\n",
    "job = backend.run(qobj)\n",
    "job_monitor(job, interval=2)"
   ]
  },
  {
   "cell_type": "code",
   "execution_count": 9,
   "id": "7d9d0aff",
   "metadata": {},
   "outputs": [
    {
     "data": {
      "image/png": "[encoded data removed]",
      "text/plain": [
       "<Figure size 504x360 with 1 Axes>"
      ]
     },
     "execution_count": 9,
     "metadata": {},
     "output_type": "execute_result"
    }
   ],
   "source": [
    "## Getting the results\n",
    "results = job.result()\n",
    "answer = results.get_counts(grover_circuit)\n",
    "plot_histogram(answer)"
   ]
  }
 ],
 "metadata": {
  "kernelspec": {
   "display_name": "Python 3",
   "language": "python",
   "name": "python3"
  },
  "language_info": {
   "codemirror_mode": {
    "name": "ipython",
    "version": 3
   },
   "file_extension": ".py",
   "mimetype": "text/x-python",
   "name": "python",
   "nbconvert_exporter": "python",
   "pygments_lexer": "ipython3",
   "version": "3.8.10"
  }
 },
 "nbformat": 4,
 "nbformat_minor": 5
}
